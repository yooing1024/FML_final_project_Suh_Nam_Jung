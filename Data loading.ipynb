{
 "cells": [
  {
   "cell_type": "code",
   "execution_count": 2,
   "id": "740aa86f",
   "metadata": {
    "scrolled": true
   },
   "outputs": [],
   "source": [
    "# Open up dataset"
   ]
  },
  {
   "cell_type": "code",
   "execution_count": 3,
   "id": "c5b923cd",
   "metadata": {
    "scrolled": true
   },
   "outputs": [
    {
     "name": "stdout",
     "output_type": "stream",
     "text": [
      "^C\r\n"
     ]
    }
   ],
   "source": [
    "# ! cp -r /storage/ice1/shared/d-pace_community/makerspace-datasets/MEDICAL/OLIVES /home/hice1/hsuh45/scratch"
   ]
  },
  {
   "cell_type": "code",
   "execution_count": 2,
   "id": "6f8d54ba",
   "metadata": {
    "scrolled": true
   },
   "outputs": [],
   "source": [
    "import time\n",
    "import numpy as np\n",
    "import torch\n",
    "import torch.nn as nn\n",
    "import torch.nn.functional as F\n",
    "from torchvision import datasets\n",
    "from torchvision import transforms\n",
    "from torch.utils.data import DataLoader, Dataset\n",
    "import pandas as pd\n",
    "import os\n",
    "from PIL import Image\n",
    "from sklearn.model_selection import train_test_split\n",
    "\n",
    "if torch.cuda.is_available():\n",
    "    torch.backends.cudnn.deterministic = True"
   ]
  },
  {
   "cell_type": "code",
   "execution_count": 2,
   "id": "0a9c658d",
   "metadata": {
    "scrolled": true
   },
   "outputs": [
    {
     "data": {
      "text/plain": [
       "'\\n1. Load dataset, split evenly (reduce class / label imbalance), split to train/valid/test\\n2. Load pretrained model, edit it to fit our task\\n3. Loss (weighted CE or focal loss), eval metric (class-wise F1)\\n\\n'"
      ]
     },
     "execution_count": 2,
     "metadata": {},
     "output_type": "execute_result"
    }
   ],
   "source": [
    "# Minimal Setup\n",
    "\n",
    "'''\n",
    "1. Load dataset, split evenly (reduce class / label imbalance), split to train/valid/test\n",
    "2. Load pretrained model, edit it to fit our task\n",
    "3. Loss (weighted CE or focal loss), eval metric (class-wise F1)\n",
    "\n",
    "'''"
   ]
  },
  {
   "cell_type": "code",
   "execution_count": 4,
   "id": "49d38c88",
   "metadata": {
    "scrolled": true
   },
   "outputs": [
    {
     "data": {
      "text/plain": [
       "Index(['Path (Trial/Arm/Folder/Visit/Eye/Image Name)', 'Scan (n/49)',\n",
       "       'Atrophy / thinning of retinal layers', 'Disruption of EZ', 'DRIL',\n",
       "       'IR hemorrhages', 'IR HRF', 'Partially attached vitreous face',\n",
       "       'Fully attached vitreous face', 'Preretinal tissue/hemorrhage',\n",
       "       'Vitreous debris', 'VMT', 'DRT/ME', 'Fluid (IRF)', 'Fluid (SRF)',\n",
       "       'Disruption of RPE', 'PED (serous)', 'SHRM', 'Eye_ID', 'BCVA', 'CST',\n",
       "       'Patient_ID'],\n",
       "      dtype='object')"
      ]
     },
     "execution_count": 4,
     "metadata": {},
     "output_type": "execute_result"
    }
   ],
   "source": [
    "data = pd.read_csv('~/scratch/OLIVES/OLIVES/Biomarker_Clinical_Data_Images_Updated.csv')\n",
    "data\n",
    "# data['Path (Trial/Arm/Folder/Visit/Eye/Image Name)']\n",
    "data.columns\n",
    "\n",
    "# Biomarkers labeled: (based on paper)\n",
    "# IRHRF, FAVF, IRF, DRT/ME PAVF, VD,\n",
    "# Preretinal Tissue, EZ Disruption, IR Hemmorhages,\n",
    "# SRF, VMT, Atrophy, SHRM, RPE Disruption,\n",
    "# Serous PED\n",
    "bio_markers = data[data.columns[2:18]].values\n",
    "bio_markers.shape\n",
    "data.columns"
   ]
  },
  {
   "cell_type": "code",
   "execution_count": null,
   "id": "848851a0",
   "metadata": {
    "scrolled": true
   },
   "outputs": [
    {
     "name": "stdout",
     "output_type": "stream",
     "text": [
      "img_array shape:  (496, 504)\n",
      "Saving  0\n",
      "Saving  500\n",
      "Saving  1000\n",
      "Saving  1500\n",
      "Saving  2000\n",
      "Saving  2500\n",
      "Saving  3000\n",
      "Saving  3500\n"
     ]
    }
   ],
   "source": [
    "# Dataset Load and split\n",
    "\n",
    "# 96 eyes, 49 OCT images, 2 visits, 16 biomarkers (binary)\n",
    "# 96 eyes, 49 OCT images, 2 visits, 496 x 504 OCT images (grayscale)\n",
    "\n",
    "csv_file = '~/scratch/OLIVES/OLIVES/Biomarker_Clinical_Data_Images_Updated.csv'\n",
    "data = pd.read_csv(csv_file)\n",
    "col_names = data.columns\n",
    "file_paths = data['Path (Trial/Arm/Folder/Visit/Eye/Image Name)'].values\n",
    "scan_N = 9408\n",
    "oct_N = 49\n",
    "eye_N = 96\n",
    "bio_markers = data[col_names[2:18]].values\n",
    "bio_markers = bio_markers.reshape([eye_N*2*oct_N,-1])\n",
    "clin_data = data[col_names[19:21]].values\n",
    "clin_data = clin_data.reshape([eye_N*2*oct_N,-1])\n",
    "\n",
    "\n",
    "\n",
    "home_dir = '/home/hice1/hsuh45/scratch/OLIVES/OLIVES/'\n",
    "img = Image.open(home_dir + file_paths[0]).convert('L')\n",
    "img_array = np.array(img)\n",
    "sh = img_array.shape # Shape: [496, 504]\n",
    "print('img_array shape: ',sh)\n",
    "\n",
    "oct_img = np.zeros([eye_N*2*oct_N,sh[0],sh[1]], dtype=np.float32)\n",
    "\n",
    "for i in range(len(file_paths)):\n",
    "    try: \n",
    "        img = Image.open(home_dir + file_paths[i]).convert('L')\n",
    "        img_array = np.array(img)\n",
    "        oct_img[i] = img_array\n",
    "        if(img_array.shape!=sh):\n",
    "            print(f'diff shape {sh} vs {img_array.shape}')\n",
    "        if (i%500==0):\n",
    "            print('Saving ',i)\n",
    "    except Exception as e:\n",
    "        print(f\"Error reading file {path}: {e}\")\n",
    "        \n",
    "dataset = {\n",
    "    'img': oct_img, # [eye_N,2,oct_N, height, width]\n",
    "    'bio': bio_markers, #[eye_N,2,oct_N,16]\n",
    "    'clin': clin_data #[eye_N, 2, oct_N, 2]\n",
    "}\n",
    "\n"
   ]
  },
  {
   "cell_type": "code",
   "execution_count": null,
   "id": "5d01c44d",
   "metadata": {
    "scrolled": true
   },
   "outputs": [],
   "source": [
    "# save dataset for later use \n",
    "import pickle\n",
    "def save_dataset(dataset, filename=\"~/scratch/dataset.pkl\"):\n",
    "    with open(filename, 'wb') as file:\n",
    "        pickle.dump(dataset, file)\n",
    "    print(f\"Dataset saved to {filename}\")\n",
    "\n",
    "save_dataset(dataset, filename=\"dataset.pkl\")\n",
    "\n",
    "def load_dataset(filename=\"dataset.pkl\"):\n",
    "    with open(filename, 'rb') as file:\n",
    "        dataset = pickle.load(file)\n",
    "    print(f\"Dataset loaded from {filename}\")\n",
    "    return dataset\n",
    "\n",
    "# loaded_dataset = load_dataset(filename=\"dataset.pkl\")\n"
   ]
  },
  {
   "cell_type": "code",
   "execution_count": 8,
   "id": "2fb4e523",
   "metadata": {
    "scrolled": true
   },
   "outputs": [
    {
     "name": "stdout",
     "output_type": "stream",
     "text": [
      "Defaulting to user installation because normal site-packages is not writeable\n",
      "Looking in indexes: https://pypi.org/simple, https://pypi.ngc.nvidia.com\n",
      "Requirement already satisfied: scikit-multilearn in ./.local/lib/python3.10/site-packages (0.2.0)\n",
      "\n",
      "\u001b[1m[\u001b[0m\u001b[34;49mnotice\u001b[0m\u001b[1;39;49m]\u001b[0m\u001b[39;49m A new release of pip is available: \u001b[0m\u001b[31;49m24.0\u001b[0m\u001b[39;49m -> \u001b[0m\u001b[32;49m24.3.1\u001b[0m\n",
      "\u001b[1m[\u001b[0m\u001b[34;49mnotice\u001b[0m\u001b[1;39;49m]\u001b[0m\u001b[39;49m To update, run: \u001b[0m\u001b[32;49mpython -m pip install --upgrade pip\u001b[0m\n",
      "Note: you may need to restart the kernel to use updated packages.\n"
     ]
    }
   ],
   "source": [
    "# pip install scikit-multilearn\n"
   ]
  },
  {
   "cell_type": "code",
   "execution_count": 13,
   "id": "08fe755c",
   "metadata": {
    "scrolled": true
   },
   "outputs": [
    {
     "data": {
      "text/plain": [
       "[<matplotlib.lines.Line2D at 0x1552513dfbb0>]"
      ]
     },
     "execution_count": 13,
     "metadata": {},
     "output_type": "execute_result"
    },
    {
     "data": {
      "image/png": "[encoded data removed]",
      "text/plain": [
       "<Figure size 640x480 with 1 Axes>"
      ]
     },
     "metadata": {},
     "output_type": "display_data"
    }
   ],
   "source": [
    "# Stratification\n",
    "import matplotlib.pyplot as plt\n",
    "\n",
    "# dist = np.mean(dataset['bio'],axis=(1,2))\n",
    "# plt.plot(dist[:,0])\n",
    "# plt.plot(dist[:,1])\n",
    "# plt.plot(dist[:,2])\n",
    "# plt.plot(dist[:,3])"
   ]
  },
  {
   "cell_type": "code",
   "execution_count": 16,
   "id": "5fc014e6",
   "metadata": {},
   "outputs": [],
   "source": [
    "from skmultilearn.model_selection import iterative_train_test_split\n",
    "\n",
    "def multi_label_stratified_split(images, labels, test_size=0.2, val_size=0.1, random_state=42):\n",
    "    \"\"\"\n",
    "    Splits the dataset into train, validation, and test sets using multi-label stratification.\n",
    "\n",
    "    Args:\n",
    "        images (np.ndarray): OCT images of shape [eye_N, visit_N, oct_scanN, H, W].\n",
    "        labels (np.ndarray): Biomarker labels of shape [eye_N, visit_N, oct_scanN, bio_marker_N].\n",
    "        test_size (float): Proportion of data for the test set.\n",
    "        val_size (float): Proportion of data for the validation set (from remaining train set).\n",
    "        random_state (int): Random seed for reproducibility.\n",
    "\n",
    "    Returns:\n",
    "        train_data, val_data, test_data: Tuples containing (images, labels) for each split.\n",
    "    \"\"\"\n",
    "    np.random.seed(random_state)\n",
    "\n",
    "    # Flatten visits and scans for eye-level data\n",
    "    eye_labels = labels.any(axis=(1, 2))  # Shape: [eye_N, bio_marker_N]\n",
    "    eye_images = images  # Shape remains [eye_N, visit_N, oct_scanN, H, W]\n",
    "\n",
    "    # Split into train and test using multi-label stratification\n",
    "    train_images, test_images, train_labels, test_labels = iterative_train_test_split(\n",
    "        eye_images, eye_labels.astype(int), test_size=test_size\n",
    "    )\n",
    "\n",
    "    # Further split the train set into train and validation\n",
    "    train_images, val_images, train_labels, val_labels = iterative_train_test_split(\n",
    "        train_images, train_labels, test_size=val_size / (1 - test_size)\n",
    "    )\n",
    "\n",
    "    return (train_images, train_labels), (val_images, val_labels), (test_images, test_labels)\n",
    "\n",
    "# images = dataset['img']\n",
    "# labels = dataset['bio']\n",
    "\n",
    "# # Step 1: Multi-label stratified split\n",
    "# train_data, val_data, test_data = multi_label_stratified_split(images, labels)\n"
   ]
  },
  {
   "cell_type": "code",
   "execution_count": 3,
   "id": "02a7c776",
   "metadata": {
    "scrolled": true
   },
   "outputs": [
    {
     "ename": "NameError",
     "evalue": "name 'dataset' is not defined",
     "output_type": "error",
     "traceback": [
      "\u001b[0;31m---------------------------------------------------------------------------\u001b[0m",
      "\u001b[0;31mNameError\u001b[0m                                 Traceback (most recent call last)",
      "Cell \u001b[0;32mIn[3], line 38\u001b[0m\n\u001b[1;32m     34\u001b[0m         label \u001b[38;5;241m=\u001b[39m torch\u001b[38;5;241m.\u001b[39mtensor(label, dtype\u001b[38;5;241m=\u001b[39mtorch\u001b[38;5;241m.\u001b[39mfloat32)\n\u001b[1;32m     36\u001b[0m         \u001b[38;5;28;01mreturn\u001b[39;00m img, label\n\u001b[0;32m---> 38\u001b[0m images \u001b[38;5;241m=\u001b[39m np\u001b[38;5;241m.\u001b[39marray(\u001b[43mdataset\u001b[49m[\u001b[38;5;124m'\u001b[39m\u001b[38;5;124mimg\u001b[39m\u001b[38;5;124m'\u001b[39m])\u001b[38;5;241m.\u001b[39mreshape(\u001b[38;5;241m-\u001b[39m\u001b[38;5;241m1\u001b[39m,sh[\u001b[38;5;241m0\u001b[39m],sh[\u001b[38;5;241m1\u001b[39m])\n\u001b[1;32m     39\u001b[0m labels \u001b[38;5;241m=\u001b[39m dataset[\u001b[38;5;124m'\u001b[39m\u001b[38;5;124mbio\u001b[39m\u001b[38;5;124m'\u001b[39m]\u001b[38;5;241m.\u001b[39mreshape(\u001b[38;5;241m-\u001b[39m\u001b[38;5;241m1\u001b[39m,\u001b[38;5;241m16\u001b[39m)\n\u001b[1;32m     41\u001b[0m X_train, X_test, y_train, y_test \u001b[38;5;241m=\u001b[39m train_test_split(\n\u001b[1;32m     42\u001b[0m     images,\n\u001b[1;32m     43\u001b[0m     labels,\n\u001b[1;32m     44\u001b[0m     test_size \u001b[38;5;241m=\u001b[39m \u001b[38;5;241m0.2\u001b[39m,\n\u001b[1;32m     45\u001b[0m     random_state \u001b[38;5;241m=\u001b[39m \u001b[38;5;241m42\u001b[39m\n\u001b[1;32m     46\u001b[0m )\n",
      "\u001b[0;31mNameError\u001b[0m: name 'dataset' is not defined"
     ]
    }
   ],
   "source": [
    "# from skmultilearn.model_selection import iterative_train_test_split\n",
    "import numpy as np\n",
    "\n",
    "# DeiT preprocessing\n",
    "transform_deit = transforms.Compose([\n",
    "    transforms.Resize((512,512)),                # Resize to square dimensions\n",
    "    transforms.ToTensor(),                        # Convert to tensor\n",
    "    transforms.Normalize(mean=[0.5], std=[0.5])   # Normalize (adjust mean/std for grayscale)\n",
    "])\n",
    "# SwinT preprocessing\n",
    "transform_swin = transforms.Compose([\n",
    "    transforms.Resize((496,504)),                # Minimal resizing\n",
    "    transforms.ToTensor(),                        # Convert to tensor\n",
    "    transforms.Normalize(mean=[0.5], std=[0.5])   # Normalize (adjust mean/std for grayscale)\n",
    "])\n",
    "\n",
    "\n",
    "# Create DataLoaders with the preprocessed data\n",
    "class OCTDataset(Dataset):\n",
    "    def __init__(self, images, labels, transform=None):\n",
    "        self.images = images\n",
    "        self.labels = labels\n",
    "        self.transform = transform\n",
    "\n",
    "    def __len__(self):\n",
    "        return self.images.shape[0]\n",
    "\n",
    "    def __getitem__(self, index):\n",
    "        img = self.images[index]  # Shape: [sample N, H, W]\n",
    "        label = self.labels[index]  # Shape: [sample N, bio_marker_N]\n",
    "        \n",
    "        if self.transform:\n",
    "            img = self.transform(img)\n",
    "        label = torch.tensor(label, dtype=torch.float32)\n",
    "        \n",
    "        return img, label\n",
    "\n",
    "images = dataset['img']\n",
    "labels = dataset['bio']\n",
    "\n",
    "X_train, X_test, y_train, y_test = train_test_split(\n",
    "    images,\n",
    "    labels,\n",
    "    test_size = 0.2,\n",
    "    random_state = 42\n",
    ")\n",
    "    \n",
    "train_dataset = OCTDataset(X_train, y_train, transform=transform_deit)\n",
    "# val_dataset = OCTDataset(val_data[0], val_data[1], preprocess_fn)\n",
    "test_dataset = OCTDataset(X_test, y_test, transform=transform)\n",
    "\n",
    "batch_size = 32\n",
    "train_loader = DataLoader(train_dataset, batch_size=batch_size, shuffle=True)\n",
    "# val_loader = DataLoader(val_dataset, batch_size=batch_size, shuffle=False)\n",
    "test_loader = DataLoader(test_dataset, batch_size=batch_size, shuffle=False)\n"
   ]
  },
  {
   "cell_type": "code",
   "execution_count": null,
   "id": "d4c77d6c",
   "metadata": {
    "scrolled": true
   },
   "outputs": [],
   "source": []
  }
 ],
 "metadata": {
  "kernelspec": {
   "display_name": "Python 3 (ipykernel)",
   "language": "python",
   "name": "python3"
  },
  "language_info": {
   "codemirror_mode": {
    "name": "ipython",
    "version": 3
   },
   "file_extension": ".py",
   "mimetype": "text/x-python",
   "name": "python",
   "nbconvert_exporter": "python",
   "pygments_lexer": "ipython3",
   "version": "3.10.12"
  }
 },
 "nbformat": 4,
 "nbformat_minor": 5
}
